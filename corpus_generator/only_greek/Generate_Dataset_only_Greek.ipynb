{
 "cells": [
  {
   "cell_type": "markdown",
   "id": "c8313982-4bfe-47db-ab35-6e4159ef5ea5",
   "metadata": {},
   "source": [
    "## Combination of Greek Words"
   ]
  },
  {
   "cell_type": "code",
   "execution_count": 21,
   "id": "8d5fe278-9c81-4142-9a34-d6139950264c",
   "metadata": {
    "tags": []
   },
   "outputs": [],
   "source": [
    "import warnings\n",
    "warnings.simplefilter(action='ignore', category=FutureWarning)\n",
    "import random\n",
    "import pandas as pd\n",
    "import csv\n",
    "from collections import Counter\n",
    "\n",
    "from itertools import islice\n",
    "\n",
    "def take(n, iterable):\n",
    "    \"\"\"Return the first n items of the iterable as a list.\"\"\"\n",
    "    return list(islice(iterable, n))"
   ]
  },
  {
   "cell_type": "code",
   "execution_count": 3,
   "id": "cbb82190-291e-42f1-b6ae-87dbd39a87ec",
   "metadata": {
    "tags": []
   },
   "outputs": [],
   "source": [
    "greek_corpus = pd.read_csv('Greek_wordlist.txt', sep=\"\\t\", header=None, quoting=csv.QUOTE_NONE)"
   ]
  },
  {
   "cell_type": "code",
   "execution_count": 11,
   "id": "1d3f58e7-c107-4762-b18f-0f3d440966aa",
   "metadata": {
    "tags": []
   },
   "outputs": [],
   "source": [
    "dictionary = pd.read_csv('greek_char.txt', sep=\"\\t\", header=None, quoting=csv.QUOTE_NONE)\n",
    "char_dict = dictionary.iloc[:72]\n",
    "symbol_dict = dictionary.iloc[72:]\n",
    "symbol_dict = symbol_dict.reset_index(drop=True)"
   ]
  },
  {
   "cell_type": "code",
   "execution_count": 12,
   "id": "4efa0d2c-4913-41f3-bb08-eb3e7dcad4b0",
   "metadata": {
    "tags": []
   },
   "outputs": [
    {
     "data": {
      "text/html": [
       "<div>\n",
       "<style scoped>\n",
       "    .dataframe tbody tr th:only-of-type {\n",
       "        vertical-align: middle;\n",
       "    }\n",
       "\n",
       "    .dataframe tbody tr th {\n",
       "        vertical-align: top;\n",
       "    }\n",
       "\n",
       "    .dataframe thead th {\n",
       "        text-align: right;\n",
       "    }\n",
       "</style>\n",
       "<table border=\"1\" class=\"dataframe\">\n",
       "  <thead>\n",
       "    <tr style=\"text-align: right;\">\n",
       "      <th></th>\n",
       "      <th>0</th>\n",
       "    </tr>\n",
       "  </thead>\n",
       "  <tbody>\n",
       "    <tr>\n",
       "      <th>0</th>\n",
       "      <td>και</td>\n",
       "    </tr>\n",
       "    <tr>\n",
       "      <th>1</th>\n",
       "      <td>να</td>\n",
       "    </tr>\n",
       "    <tr>\n",
       "      <th>2</th>\n",
       "      <td>το</td>\n",
       "    </tr>\n",
       "    <tr>\n",
       "      <th>3</th>\n",
       "      <td>του</td>\n",
       "    </tr>\n",
       "    <tr>\n",
       "      <th>4</th>\n",
       "      <td>την</td>\n",
       "    </tr>\n",
       "    <tr>\n",
       "      <th>...</th>\n",
       "      <td>...</td>\n",
       "    </tr>\n",
       "    <tr>\n",
       "      <th>143955</th>\n",
       "      <td>ΚΑΚΟΗΘΟΥΣ</td>\n",
       "    </tr>\n",
       "    <tr>\n",
       "      <th>143956</th>\n",
       "      <td>ΗΛΙΑΧΤΙΔΑ</td>\n",
       "    </tr>\n",
       "    <tr>\n",
       "      <th>143957</th>\n",
       "      <td>ΠΡΕΣΒΕΥΕΙΣ</td>\n",
       "    </tr>\n",
       "    <tr>\n",
       "      <th>143958</th>\n",
       "      <td>ΕΦΑΜΙΛΛΗ</td>\n",
       "    </tr>\n",
       "    <tr>\n",
       "      <th>143959</th>\n",
       "      <td>ΜΕΓΕΘΥΝΤΙΚΟ</td>\n",
       "    </tr>\n",
       "  </tbody>\n",
       "</table>\n",
       "<p>143960 rows × 1 columns</p>\n",
       "</div>"
      ],
      "text/plain": [
       "                  0\n",
       "0               και\n",
       "1                να\n",
       "2                το\n",
       "3               του\n",
       "4               την\n",
       "...             ...\n",
       "143955    ΚΑΚΟΗΘΟΥΣ\n",
       "143956    ΗΛΙΑΧΤΙΔΑ\n",
       "143957   ΠΡΕΣΒΕΥΕΙΣ\n",
       "143958     ΕΦΑΜΙΛΛΗ\n",
       "143959  ΜΕΓΕΘΥΝΤΙΚΟ\n",
       "\n",
       "[143960 rows x 1 columns]"
      ]
     },
     "execution_count": 12,
     "metadata": {},
     "output_type": "execute_result"
    }
   ],
   "source": [
    "greek_corpus"
   ]
  },
  {
   "cell_type": "code",
   "execution_count": 13,
   "id": "ce0d4702-cc91-4c47-bddd-3aca996e1f26",
   "metadata": {
    "tags": []
   },
   "outputs": [
    {
     "data": {
      "text/html": [
       "<div>\n",
       "<style scoped>\n",
       "    .dataframe tbody tr th:only-of-type {\n",
       "        vertical-align: middle;\n",
       "    }\n",
       "\n",
       "    .dataframe tbody tr th {\n",
       "        vertical-align: top;\n",
       "    }\n",
       "\n",
       "    .dataframe thead th {\n",
       "        text-align: right;\n",
       "    }\n",
       "</style>\n",
       "<table border=\"1\" class=\"dataframe\">\n",
       "  <thead>\n",
       "    <tr style=\"text-align: right;\">\n",
       "      <th></th>\n",
       "      <th>0</th>\n",
       "    </tr>\n",
       "  </thead>\n",
       "  <tbody>\n",
       "    <tr>\n",
       "      <th>0</th>\n",
       "      <td>Α</td>\n",
       "    </tr>\n",
       "    <tr>\n",
       "      <th>1</th>\n",
       "      <td>Β</td>\n",
       "    </tr>\n",
       "    <tr>\n",
       "      <th>2</th>\n",
       "      <td>Γ</td>\n",
       "    </tr>\n",
       "    <tr>\n",
       "      <th>3</th>\n",
       "      <td>Δ</td>\n",
       "    </tr>\n",
       "    <tr>\n",
       "      <th>4</th>\n",
       "      <td>Ε</td>\n",
       "    </tr>\n",
       "    <tr>\n",
       "      <th>...</th>\n",
       "      <td>...</td>\n",
       "    </tr>\n",
       "    <tr>\n",
       "      <th>109</th>\n",
       "      <td>+</td>\n",
       "    </tr>\n",
       "    <tr>\n",
       "      <th>110</th>\n",
       "      <td>,</td>\n",
       "    </tr>\n",
       "    <tr>\n",
       "      <th>111</th>\n",
       "      <td>-</td>\n",
       "    </tr>\n",
       "    <tr>\n",
       "      <th>112</th>\n",
       "      <td>.</td>\n",
       "    </tr>\n",
       "    <tr>\n",
       "      <th>113</th>\n",
       "      <td>/</td>\n",
       "    </tr>\n",
       "  </tbody>\n",
       "</table>\n",
       "<p>114 rows × 1 columns</p>\n",
       "</div>"
      ],
      "text/plain": [
       "     0\n",
       "0    Α\n",
       "1    Β\n",
       "2    Γ\n",
       "3    Δ\n",
       "4    Ε\n",
       "..  ..\n",
       "109  +\n",
       "110  ,\n",
       "111  -\n",
       "112  .\n",
       "113  /\n",
       "\n",
       "[114 rows x 1 columns]"
      ]
     },
     "execution_count": 13,
     "metadata": {},
     "output_type": "execute_result"
    }
   ],
   "source": [
    "dictionary"
   ]
  },
  {
   "cell_type": "code",
   "execution_count": 14,
   "id": "ae4ecb3e-7f6e-4402-add5-aa371dea2292",
   "metadata": {
    "tags": []
   },
   "outputs": [
    {
     "data": {
      "text/html": [
       "<div>\n",
       "<style scoped>\n",
       "    .dataframe tbody tr th:only-of-type {\n",
       "        vertical-align: middle;\n",
       "    }\n",
       "\n",
       "    .dataframe tbody tr th {\n",
       "        vertical-align: top;\n",
       "    }\n",
       "\n",
       "    .dataframe thead th {\n",
       "        text-align: right;\n",
       "    }\n",
       "</style>\n",
       "<table border=\"1\" class=\"dataframe\">\n",
       "  <thead>\n",
       "    <tr style=\"text-align: right;\">\n",
       "      <th></th>\n",
       "      <th>0</th>\n",
       "    </tr>\n",
       "  </thead>\n",
       "  <tbody>\n",
       "    <tr>\n",
       "      <th>0</th>\n",
       "      <td>Α</td>\n",
       "    </tr>\n",
       "    <tr>\n",
       "      <th>1</th>\n",
       "      <td>Β</td>\n",
       "    </tr>\n",
       "    <tr>\n",
       "      <th>2</th>\n",
       "      <td>Γ</td>\n",
       "    </tr>\n",
       "    <tr>\n",
       "      <th>3</th>\n",
       "      <td>Δ</td>\n",
       "    </tr>\n",
       "    <tr>\n",
       "      <th>4</th>\n",
       "      <td>Ε</td>\n",
       "    </tr>\n",
       "    <tr>\n",
       "      <th>...</th>\n",
       "      <td>...</td>\n",
       "    </tr>\n",
       "    <tr>\n",
       "      <th>67</th>\n",
       "      <td>ΰ</td>\n",
       "    </tr>\n",
       "    <tr>\n",
       "      <th>68</th>\n",
       "      <td>ϰ</td>\n",
       "    </tr>\n",
       "    <tr>\n",
       "      <th>69</th>\n",
       "      <td>ϱ</td>\n",
       "    </tr>\n",
       "    <tr>\n",
       "      <th>70</th>\n",
       "      <td>ϐ</td>\n",
       "    </tr>\n",
       "    <tr>\n",
       "      <th>71</th>\n",
       "      <td>ϑ</td>\n",
       "    </tr>\n",
       "  </tbody>\n",
       "</table>\n",
       "<p>72 rows × 1 columns</p>\n",
       "</div>"
      ],
      "text/plain": [
       "    0\n",
       "0   Α\n",
       "1   Β\n",
       "2   Γ\n",
       "3   Δ\n",
       "4   Ε\n",
       ".. ..\n",
       "67  ΰ\n",
       "68  ϰ\n",
       "69  ϱ\n",
       "70  ϐ\n",
       "71  ϑ\n",
       "\n",
       "[72 rows x 1 columns]"
      ]
     },
     "execution_count": 14,
     "metadata": {},
     "output_type": "execute_result"
    }
   ],
   "source": [
    "char_dict"
   ]
  },
  {
   "cell_type": "code",
   "execution_count": 15,
   "id": "9a184b7c-4101-4c80-872f-9d948c99b809",
   "metadata": {
    "tags": []
   },
   "outputs": [
    {
     "data": {
      "text/html": [
       "<div>\n",
       "<style scoped>\n",
       "    .dataframe tbody tr th:only-of-type {\n",
       "        vertical-align: middle;\n",
       "    }\n",
       "\n",
       "    .dataframe tbody tr th {\n",
       "        vertical-align: top;\n",
       "    }\n",
       "\n",
       "    .dataframe thead th {\n",
       "        text-align: right;\n",
       "    }\n",
       "</style>\n",
       "<table border=\"1\" class=\"dataframe\">\n",
       "  <thead>\n",
       "    <tr style=\"text-align: right;\">\n",
       "      <th></th>\n",
       "      <th>0</th>\n",
       "    </tr>\n",
       "  </thead>\n",
       "  <tbody>\n",
       "    <tr>\n",
       "      <th>0</th>\n",
       "      <td>0</td>\n",
       "    </tr>\n",
       "    <tr>\n",
       "      <th>1</th>\n",
       "      <td>1</td>\n",
       "    </tr>\n",
       "    <tr>\n",
       "      <th>2</th>\n",
       "      <td>2</td>\n",
       "    </tr>\n",
       "    <tr>\n",
       "      <th>3</th>\n",
       "      <td>3</td>\n",
       "    </tr>\n",
       "    <tr>\n",
       "      <th>4</th>\n",
       "      <td>4</td>\n",
       "    </tr>\n",
       "    <tr>\n",
       "      <th>5</th>\n",
       "      <td>5</td>\n",
       "    </tr>\n",
       "    <tr>\n",
       "      <th>6</th>\n",
       "      <td>6</td>\n",
       "    </tr>\n",
       "    <tr>\n",
       "      <th>7</th>\n",
       "      <td>7</td>\n",
       "    </tr>\n",
       "    <tr>\n",
       "      <th>8</th>\n",
       "      <td>8</td>\n",
       "    </tr>\n",
       "    <tr>\n",
       "      <th>9</th>\n",
       "      <td>9</td>\n",
       "    </tr>\n",
       "    <tr>\n",
       "      <th>10</th>\n",
       "      <td>:</td>\n",
       "    </tr>\n",
       "    <tr>\n",
       "      <th>11</th>\n",
       "      <td>;</td>\n",
       "    </tr>\n",
       "    <tr>\n",
       "      <th>12</th>\n",
       "      <td>&lt;</td>\n",
       "    </tr>\n",
       "    <tr>\n",
       "      <th>13</th>\n",
       "      <td>=</td>\n",
       "    </tr>\n",
       "    <tr>\n",
       "      <th>14</th>\n",
       "      <td>&gt;</td>\n",
       "    </tr>\n",
       "    <tr>\n",
       "      <th>15</th>\n",
       "      <td>?</td>\n",
       "    </tr>\n",
       "    <tr>\n",
       "      <th>16</th>\n",
       "      <td>@</td>\n",
       "    </tr>\n",
       "    <tr>\n",
       "      <th>17</th>\n",
       "      <td>[</td>\n",
       "    </tr>\n",
       "    <tr>\n",
       "      <th>18</th>\n",
       "      <td>\\</td>\n",
       "    </tr>\n",
       "    <tr>\n",
       "      <th>19</th>\n",
       "      <td>]</td>\n",
       "    </tr>\n",
       "    <tr>\n",
       "      <th>20</th>\n",
       "      <td>^</td>\n",
       "    </tr>\n",
       "    <tr>\n",
       "      <th>21</th>\n",
       "      <td>_</td>\n",
       "    </tr>\n",
       "    <tr>\n",
       "      <th>22</th>\n",
       "      <td>`</td>\n",
       "    </tr>\n",
       "    <tr>\n",
       "      <th>23</th>\n",
       "      <td>{</td>\n",
       "    </tr>\n",
       "    <tr>\n",
       "      <th>24</th>\n",
       "      <td>|</td>\n",
       "    </tr>\n",
       "    <tr>\n",
       "      <th>25</th>\n",
       "      <td>}</td>\n",
       "    </tr>\n",
       "    <tr>\n",
       "      <th>26</th>\n",
       "      <td>~</td>\n",
       "    </tr>\n",
       "    <tr>\n",
       "      <th>27</th>\n",
       "      <td>!</td>\n",
       "    </tr>\n",
       "    <tr>\n",
       "      <th>28</th>\n",
       "      <td>\"</td>\n",
       "    </tr>\n",
       "    <tr>\n",
       "      <th>29</th>\n",
       "      <td>#</td>\n",
       "    </tr>\n",
       "    <tr>\n",
       "      <th>30</th>\n",
       "      <td>$</td>\n",
       "    </tr>\n",
       "    <tr>\n",
       "      <th>31</th>\n",
       "      <td>%</td>\n",
       "    </tr>\n",
       "    <tr>\n",
       "      <th>32</th>\n",
       "      <td>&amp;</td>\n",
       "    </tr>\n",
       "    <tr>\n",
       "      <th>33</th>\n",
       "      <td>'</td>\n",
       "    </tr>\n",
       "    <tr>\n",
       "      <th>34</th>\n",
       "      <td>(</td>\n",
       "    </tr>\n",
       "    <tr>\n",
       "      <th>35</th>\n",
       "      <td>)</td>\n",
       "    </tr>\n",
       "    <tr>\n",
       "      <th>36</th>\n",
       "      <td>*</td>\n",
       "    </tr>\n",
       "    <tr>\n",
       "      <th>37</th>\n",
       "      <td>+</td>\n",
       "    </tr>\n",
       "    <tr>\n",
       "      <th>38</th>\n",
       "      <td>,</td>\n",
       "    </tr>\n",
       "    <tr>\n",
       "      <th>39</th>\n",
       "      <td>-</td>\n",
       "    </tr>\n",
       "    <tr>\n",
       "      <th>40</th>\n",
       "      <td>.</td>\n",
       "    </tr>\n",
       "    <tr>\n",
       "      <th>41</th>\n",
       "      <td>/</td>\n",
       "    </tr>\n",
       "  </tbody>\n",
       "</table>\n",
       "</div>"
      ],
      "text/plain": [
       "    0\n",
       "0   0\n",
       "1   1\n",
       "2   2\n",
       "3   3\n",
       "4   4\n",
       "5   5\n",
       "6   6\n",
       "7   7\n",
       "8   8\n",
       "9   9\n",
       "10  :\n",
       "11  ;\n",
       "12  <\n",
       "13  =\n",
       "14  >\n",
       "15  ?\n",
       "16  @\n",
       "17  [\n",
       "18  \\\n",
       "19  ]\n",
       "20  ^\n",
       "21  _\n",
       "22  `\n",
       "23  {\n",
       "24  |\n",
       "25  }\n",
       "26  ~\n",
       "27  !\n",
       "28  \"\n",
       "29  #\n",
       "30  $\n",
       "31  %\n",
       "32  &\n",
       "33  '\n",
       "34  (\n",
       "35  )\n",
       "36  *\n",
       "37  +\n",
       "38  ,\n",
       "39  -\n",
       "40  .\n",
       "41  /"
      ]
     },
     "execution_count": 15,
     "metadata": {},
     "output_type": "execute_result"
    }
   ],
   "source": [
    "symbol_dict"
   ]
  },
  {
   "cell_type": "markdown",
   "id": "5357b16a-b6fc-4c36-ab01-fbb141503d13",
   "metadata": {},
   "source": [
    "## Data Cleansing for Greek Dataset"
   ]
  },
  {
   "cell_type": "code",
   "execution_count": 16,
   "id": "ec904d96-2daf-4e08-a4f9-0594db916a75",
   "metadata": {
    "tags": []
   },
   "outputs": [],
   "source": [
    "dict_list = list(dictionary[0])\n",
    "\n",
    "remove_list = []\n",
    "\n",
    "for i, txt in enumerate(greek_corpus[0]):\n",
    "    try:\n",
    "        for j in txt:\n",
    "            if j in dict_list:\n",
    "                pass\n",
    "            else:\n",
    "                remove_list.append(i)\n",
    "                continue\n",
    "    except:\n",
    "        remove_list.append(i)"
   ]
  },
  {
   "cell_type": "code",
   "execution_count": 17,
   "id": "34ead452-6b41-4bda-b1c5-c6af5944b4e2",
   "metadata": {
    "tags": []
   },
   "outputs": [
    {
     "data": {
      "text/html": [
       "<div>\n",
       "<style scoped>\n",
       "    .dataframe tbody tr th:only-of-type {\n",
       "        vertical-align: middle;\n",
       "    }\n",
       "\n",
       "    .dataframe tbody tr th {\n",
       "        vertical-align: top;\n",
       "    }\n",
       "\n",
       "    .dataframe thead th {\n",
       "        text-align: right;\n",
       "    }\n",
       "</style>\n",
       "<table border=\"1\" class=\"dataframe\">\n",
       "  <thead>\n",
       "    <tr style=\"text-align: right;\">\n",
       "      <th></th>\n",
       "      <th>0</th>\n",
       "    </tr>\n",
       "  </thead>\n",
       "  <tbody>\n",
       "    <tr>\n",
       "      <th>0</th>\n",
       "      <td>και</td>\n",
       "    </tr>\n",
       "    <tr>\n",
       "      <th>1</th>\n",
       "      <td>να</td>\n",
       "    </tr>\n",
       "    <tr>\n",
       "      <th>2</th>\n",
       "      <td>το</td>\n",
       "    </tr>\n",
       "    <tr>\n",
       "      <th>3</th>\n",
       "      <td>του</td>\n",
       "    </tr>\n",
       "    <tr>\n",
       "      <th>4</th>\n",
       "      <td>την</td>\n",
       "    </tr>\n",
       "    <tr>\n",
       "      <th>...</th>\n",
       "      <td>...</td>\n",
       "    </tr>\n",
       "    <tr>\n",
       "      <th>143812</th>\n",
       "      <td>ΚΑΚΟΗΘΟΥΣ</td>\n",
       "    </tr>\n",
       "    <tr>\n",
       "      <th>143813</th>\n",
       "      <td>ΗΛΙΑΧΤΙΔΑ</td>\n",
       "    </tr>\n",
       "    <tr>\n",
       "      <th>143814</th>\n",
       "      <td>ΠΡΕΣΒΕΥΕΙΣ</td>\n",
       "    </tr>\n",
       "    <tr>\n",
       "      <th>143815</th>\n",
       "      <td>ΕΦΑΜΙΛΛΗ</td>\n",
       "    </tr>\n",
       "    <tr>\n",
       "      <th>143816</th>\n",
       "      <td>ΜΕΓΕΘΥΝΤΙΚΟ</td>\n",
       "    </tr>\n",
       "  </tbody>\n",
       "</table>\n",
       "<p>143817 rows × 1 columns</p>\n",
       "</div>"
      ],
      "text/plain": [
       "                  0\n",
       "0               και\n",
       "1                να\n",
       "2                το\n",
       "3               του\n",
       "4               την\n",
       "...             ...\n",
       "143812    ΚΑΚΟΗΘΟΥΣ\n",
       "143813    ΗΛΙΑΧΤΙΔΑ\n",
       "143814   ΠΡΕΣΒΕΥΕΙΣ\n",
       "143815     ΕΦΑΜΙΛΛΗ\n",
       "143816  ΜΕΓΕΘΥΝΤΙΚΟ\n",
       "\n",
       "[143817 rows x 1 columns]"
      ]
     },
     "execution_count": 17,
     "metadata": {},
     "output_type": "execute_result"
    }
   ],
   "source": [
    "greek_corpus_avalible = greek_corpus.drop(index=remove_list)\n",
    "greek_corpus_avalible = greek_corpus_avalible.reset_index(drop=True)\n",
    "greek_corpus_avalible"
   ]
  },
  {
   "cell_type": "code",
   "execution_count": 18,
   "id": "50b9cf90-0a80-485f-9096-b6cb79fa0adb",
   "metadata": {
    "tags": []
   },
   "outputs": [],
   "source": [
    "with open('Greek_corpus.txt', 'w') as z:\n",
    "\n",
    "    for i in greek_corpus_avalible[0]:\n",
    "        z.write(i)\n",
    "        z.write('\\n')"
   ]
  },
  {
   "cell_type": "markdown",
   "id": "e64e763f-c0fe-4b04-96c4-d9d3642aef57",
   "metadata": {},
   "source": [
    "# Generate Combined Text"
   ]
  },
  {
   "cell_type": "code",
   "execution_count": 22,
   "id": "b303dfa2-1303-408a-bedc-0d8024489d9f",
   "metadata": {},
   "outputs": [],
   "source": [
    "def dataset_generation(n_sample, output_txt, print_only=False):\n",
    "    \n",
    "    with open(output_txt, 'w') as z:\n",
    "\n",
    "        for i in range(n_sample):\n",
    "            \n",
    "            text = ''\n",
    "            \n",
    "            # token length between 1 - 3\n",
    "            \n",
    "            n_token = random.randint(1,3)\n",
    "            \n",
    "            for i in range(n_token):\n",
    "                \n",
    "                # whether symbol will add to token or not with 0.5 prob\n",
    "                \n",
    "                symbol = random.randint(0,1)\n",
    "                \n",
    "                # whether greek will be chosen or not with 0.7 prob\n",
    "                \n",
    "                lang_select = random.random()\n",
    "                \n",
    "                append_text = greek_corpus_avalible.iloc[random.randint(0,len(greek_corpus_avalible)-1)][0]\n",
    "                \n",
    "                if symbol:\n",
    "                    append_symbol = symbol_dict.iloc[random.randint(0,len(symbol_dict)-1)][0]\n",
    "                    \n",
    "                    # the symbol will be added to the front or to the end of the token\n",
    "                    \n",
    "                    sym_loc_head = random.randint(0,1)\n",
    "                    \n",
    "                    if sym_loc_head:\n",
    "                        append_text = append_symbol + append_text\n",
    "\n",
    "                if i == 0:\n",
    "                    text = append_text\n",
    "                else:\n",
    "                    text = append_text + ' ' + text\n",
    "                \n",
    "            # Pick the random length of token as subset\n",
    "                \n",
    "            text_len = random.randint(1, min(24,len(text)))\n",
    "            string = text[0:text_len]\n",
    "            \n",
    "            if_add_dict_char = random.randint(0,1)\n",
    "            \n",
    "            # Add dictionay char to dataset in order to make all char inside\n",
    "            \n",
    "            if if_add_dict_char:\n",
    "            \n",
    "                add_dict_char_loc = random.randint(0,1)\n",
    "\n",
    "                add_dict_char = dictionary.iloc[random.randint(0,len(dictionary)-1)][0]\n",
    "\n",
    "                if add_dict_char_loc:\n",
    "                    append_text = add_dict_char + string\n",
    "                else:\n",
    "                    append_text = string + add_dict_char\n",
    "                    \n",
    "            else:\n",
    "                append_text = string\n",
    "                            \n",
    "            if not print_only:\n",
    "                z.write(append_text)\n",
    "                z.write('\\n')\n",
    "            else:\n",
    "                print(append_text)\n",
    "                \n",
    "def check_dataset_char_in_dict(corpus):\n",
    "\n",
    "    corpus_string = ''.join(str(x) for x in corpus)\n",
    "\n",
    "    lst = []\n",
    "\n",
    "    for letter in corpus_string:\n",
    "        lst.append(letter)\n",
    "\n",
    "    wordCount = dict(Counter(lst))\n",
    "\n",
    "    return set(list(wordCount.keys())) - set(dictionary[0].append(pd.Series([' ']))), wordCount"
   ]
  },
  {
   "cell_type": "markdown",
   "id": "ad50b681-d0e6-4efc-bef8-0799c0b72ac8",
   "metadata": {},
   "source": [
    "## Training Dataset"
   ]
  },
  {
   "cell_type": "code",
   "execution_count": 24,
   "id": "fa46e3c8-4386-41eb-9c95-a4a0191538ce",
   "metadata": {
    "tags": []
   },
   "outputs": [],
   "source": [
    "dataset_generation(80000, 'train_corpus.txt', print_only=False)"
   ]
  },
  {
   "cell_type": "code",
   "execution_count": 25,
   "id": "16dff676-88a9-467c-9c5d-0173d7c892fe",
   "metadata": {
    "tags": []
   },
   "outputs": [],
   "source": [
    "train_whole_corpus = pd.read_csv('train_corpus.txt', sep=\"\\t\", header=None, quoting=csv.QUOTE_NONE)[0]\n",
    "train_check_char_in_dict, train_wordCount = check_dataset_char_in_dict(train_whole_corpus)"
   ]
  },
  {
   "cell_type": "code",
   "execution_count": 26,
   "id": "62b51a7e-4d20-4611-a3c7-bac66ea084f1",
   "metadata": {
    "tags": []
   },
   "outputs": [
    {
     "data": {
      "text/plain": [
       "set()"
      ]
     },
     "execution_count": 26,
     "metadata": {},
     "output_type": "execute_result"
    }
   ],
   "source": [
    "train_check_char_in_dict"
   ]
  },
  {
   "cell_type": "code",
   "execution_count": 27,
   "id": "2a34ea82-5f7e-4665-8732-417a54b8004f",
   "metadata": {},
   "outputs": [
    {
     "data": {
      "text/plain": [
       "[('ν', 17928), ('τ', 19981), ('ρ', 18724), ('έ', 5606), ('π', 15739)]"
      ]
     },
     "execution_count": 27,
     "metadata": {},
     "output_type": "execute_result"
    }
   ],
   "source": [
    "take(5, train_wordCount.items())"
   ]
  },
  {
   "cell_type": "markdown",
   "id": "1622dfd8-56cb-4a09-9971-3925d73bc5e5",
   "metadata": {},
   "source": [
    "## Validation Set"
   ]
  },
  {
   "cell_type": "code",
   "execution_count": 28,
   "id": "f5321f78-3849-41e7-b7d2-6a25e7d9dd95",
   "metadata": {
    "tags": []
   },
   "outputs": [],
   "source": [
    "dataset_generation(20000, 'validate_corpus.txt', print_only=False)"
   ]
  },
  {
   "cell_type": "code",
   "execution_count": 29,
   "id": "f6d5bcb0-200c-4750-8de7-7920e6490a67",
   "metadata": {
    "tags": []
   },
   "outputs": [],
   "source": [
    "valid_whole_corpus = pd.read_csv('validate_corpus.txt', sep=\"\\t\", header=None, quoting=csv.QUOTE_NONE)[0]\n",
    "valid_check_char_in_dict, valid_wordCount = check_dataset_char_in_dict(valid_whole_corpus)"
   ]
  },
  {
   "cell_type": "code",
   "execution_count": 30,
   "id": "efaf35fc-ca38-401b-aa25-ce469c1d20d7",
   "metadata": {
    "tags": []
   },
   "outputs": [
    {
     "data": {
      "text/plain": [
       "set()"
      ]
     },
     "execution_count": 30,
     "metadata": {},
     "output_type": "execute_result"
    }
   ],
   "source": [
    "valid_check_char_in_dict"
   ]
  },
  {
   "cell_type": "code",
   "execution_count": 31,
   "id": "00d13513-4c2a-4c93-9139-a7dec5ec93c6",
   "metadata": {
    "tags": []
   },
   "outputs": [
    {
     "data": {
      "text/plain": [
       "[('Μ', 3224), ('Ε', 7382), ('Ο', 7207), ('Ν', 4508), ('Ω', 1791)]"
      ]
     },
     "execution_count": 31,
     "metadata": {},
     "output_type": "execute_result"
    }
   ],
   "source": [
    "take(5, valid_wordCount.items())"
   ]
  },
  {
   "cell_type": "markdown",
   "id": "d20e48be-497a-435f-9116-77eb19799cf9",
   "metadata": {},
   "source": [
    "# Data Distribution"
   ]
  },
  {
   "cell_type": "code",
   "execution_count": 32,
   "id": "616db73b-ab49-42da-a508-48c00c352f8b",
   "metadata": {
    "tags": []
   },
   "outputs": [
    {
     "data": {
      "text/plain": [
       "{'ν': 17928,\n",
       " 'τ': 19981,\n",
       " 'ρ': 18724,\n",
       " 'έ': 5606,\n",
       " 'π': 15739,\n",
       " 'ε': 24406,\n",
       " 'α': 32773,\n",
       " 'ι': 21681,\n",
       " 'Α': 39459,\n",
       " 'Υ': 15115,\n",
       " 'Σ': 22847,\n",
       " 'Τ': 20182,\n",
       " 'Ρ': 18917,\n",
       " 'Λ': 11627,\n",
       " 'Ι': 27969,\n",
       " ' ': 36538,\n",
       " 'ό': 4868,\n",
       " 'σ': 16844,\n",
       " 'ω': 4879,\n",
       " 'Ε': 30302,\n",
       " 'Ω': 7119,\n",
       " 'Η': 11663,\n",
       " 'Θ': 4766,\n",
       " '.': 1027,\n",
       " 'η': 8345,\n",
       " 'δ': 7577,\n",
       " 'ά': 7147,\n",
       " 'λ': 11459,\n",
       " 'ο': 23891,\n",
       " '$': 996,\n",
       " 'Ν': 18234,\n",
       " 'Ο': 28908,\n",
       " '}': 1061,\n",
       " 'Γ': 7202,\n",
       " 'Μ': 13161,\n",
       " 'υ': 11274,\n",
       " 'ϋ': 401,\n",
       " 'Φ': 4770,\n",
       " 'χ': 4823,\n",
       " 'ύ': 4053,\n",
       " 'Π': 16175,\n",
       " 'θ': 4607,\n",
       " 'ζ': 2223,\n",
       " 'γ': 7226,\n",
       " '9': 979,\n",
       " 'Κ': 15181,\n",
       " '[': 1023,\n",
       " '8': 1063,\n",
       " 'φ': 4885,\n",
       " 'μ': 13155,\n",
       " 'κ': 15288,\n",
       " 'ή': 3450,\n",
       " '5': 1017,\n",
       " '/': 1074,\n",
       " 'Β': 4051,\n",
       " '3': 1079,\n",
       " '{': 1073,\n",
       " 'Δ': 7612,\n",
       " '^': 973,\n",
       " '(': 1086,\n",
       " '!': 1055,\n",
       " 'ξ': 2515,\n",
       " \"'\": 1055,\n",
       " '7': 1040,\n",
       " 'Ξ': 2562,\n",
       " 'Χ': 4836,\n",
       " ')': 999,\n",
       " '_': 1033,\n",
       " 'ΰ': 358,\n",
       " '=': 1085,\n",
       " 'Ψ': 1191,\n",
       " ':': 998,\n",
       " '0': 1032,\n",
       " '%': 1046,\n",
       " 'ς': 5829,\n",
       " 'Ζ': 2159,\n",
       " '|': 1075,\n",
       " '*': 1056,\n",
       " '4': 1052,\n",
       " 'β': 3961,\n",
       " 'ώ': 2623,\n",
       " ']': 1077,\n",
       " 'ϱ': 332,\n",
       " '#': 987,\n",
       " 'ί': 6304,\n",
       " 'Έ': 358,\n",
       " '&': 1032,\n",
       " '?': 1016,\n",
       " '+': 982,\n",
       " '\\\\': 1068,\n",
       " '2': 1049,\n",
       " '<': 1077,\n",
       " '`': 1028,\n",
       " '~': 1003,\n",
       " ',': 1071,\n",
       " 'ϐ': 359,\n",
       " 'Ύ': 361,\n",
       " 'Ώ': 335,\n",
       " 'Ά': 356,\n",
       " ';': 1033,\n",
       " '1': 1007,\n",
       " '>': 975,\n",
       " '\"': 950,\n",
       " 'ϊ': 488,\n",
       " 'ψ': 1152,\n",
       " 'ϰ': 402,\n",
       " '6': 1030,\n",
       " 'Ί': 354,\n",
       " '@': 1036,\n",
       " 'Ή': 354,\n",
       " '-': 1057,\n",
       " 'ϑ': 318,\n",
       " 'Ϋ': 342,\n",
       " 'Ϊ': 524,\n",
       " 'Ό': 328}"
      ]
     },
     "execution_count": 32,
     "metadata": {},
     "output_type": "execute_result"
    }
   ],
   "source": [
    "train_wordCount"
   ]
  },
  {
   "cell_type": "code",
   "execution_count": 33,
   "id": "7c4966b5-77d2-4ed2-814a-b4fb180cec48",
   "metadata": {
    "tags": []
   },
   "outputs": [
    {
     "data": {
      "text/plain": [
       "{'Μ': 3224,\n",
       " 'Ε': 7382,\n",
       " 'Ο': 7207,\n",
       " 'Ν': 4508,\n",
       " 'Ω': 1791,\n",
       " 'δ': 1907,\n",
       " 'ι': 5596,\n",
       " ')': 268,\n",
       " 'Κ': 3873,\n",
       " 'Τ': 5025,\n",
       " 'Ι': 6888,\n",
       " 'Α': 9943,\n",
       " 'Σ': 5633,\n",
       " 'Φ': 1185,\n",
       " 'Β': 1017,\n",
       " 'Υ': 3795,\n",
       " '7': 248,\n",
       " 'κ': 3901,\n",
       " 'ο': 5885,\n",
       " 'υ': 2836,\n",
       " 'ρ': 4607,\n",
       " '^': 232,\n",
       " 'ν': 4518,\n",
       " 'ε': 6177,\n",
       " 'τ': 5106,\n",
       " 'α': 8093,\n",
       " 'ά': 1762,\n",
       " 'χ': 1237,\n",
       " ' ': 9068,\n",
       " 'Γ': 1703,\n",
       " '4': 249,\n",
       " '(': 262,\n",
       " 'φ': 1176,\n",
       " 'π': 3961,\n",
       " 'ή': 886,\n",
       " 'σ': 4187,\n",
       " 'ς': 1403,\n",
       " 'Χ': 1201,\n",
       " 'ό': 1224,\n",
       " 'γ': 1722,\n",
       " '=': 263,\n",
       " 'λ': 2870,\n",
       " 'ώ': 679,\n",
       " 'Λ': 2917,\n",
       " 'Η': 2851,\n",
       " 'Ρ': 4711,\n",
       " '$': 265,\n",
       " '5': 242,\n",
       " 'Π': 4021,\n",
       " '!': 251,\n",
       " '\\\\': 226,\n",
       " 'θ': 1223,\n",
       " 'Δ': 1883,\n",
       " 'Ξ': 661,\n",
       " ',': 276,\n",
       " 'ύ': 1042,\n",
       " 'ω': 1196,\n",
       " 'ί': 1470,\n",
       " 'ζ': 534,\n",
       " 'μ': 3222,\n",
       " '|': 242,\n",
       " '/': 246,\n",
       " 'έ': 1357,\n",
       " '9': 272,\n",
       " '2': 276,\n",
       " 'η': 2171,\n",
       " '\"': 260,\n",
       " '#': 238,\n",
       " 'β': 989,\n",
       " '*': 266,\n",
       " '0': 262,\n",
       " '8': 242,\n",
       " 'Ϊ': 133,\n",
       " 'ξ': 682,\n",
       " 'Ψ': 306,\n",
       " '-': 285,\n",
       " 'Θ': 1143,\n",
       " '@': 256,\n",
       " '[': 240,\n",
       " 'ϊ': 146,\n",
       " '1': 257,\n",
       " '?': 272,\n",
       " 'ψ': 321,\n",
       " 'Ώ': 81,\n",
       " 'Ή': 87,\n",
       " ']': 262,\n",
       " 'ϱ': 77,\n",
       " '6': 254,\n",
       " ':': 253,\n",
       " '%': 246,\n",
       " '_': 274,\n",
       " '{': 254,\n",
       " ';': 280,\n",
       " '+': 263,\n",
       " 'ϐ': 76,\n",
       " 'Ί': 100,\n",
       " '.': 267,\n",
       " '`': 258,\n",
       " '>': 256,\n",
       " 'ϑ': 87,\n",
       " 'Ζ': 533,\n",
       " 'Ό': 87,\n",
       " '~': 291,\n",
       " '<': 255,\n",
       " '3': 247,\n",
       " 'Ά': 82,\n",
       " '&': 252,\n",
       " \"'\": 256,\n",
       " 'ΰ': 62,\n",
       " 'Ύ': 85,\n",
       " '}': 233,\n",
       " 'Έ': 100,\n",
       " 'Ϋ': 91,\n",
       " 'ϋ': 82,\n",
       " 'ϰ': 89}"
      ]
     },
     "execution_count": 33,
     "metadata": {},
     "output_type": "execute_result"
    }
   ],
   "source": [
    "valid_wordCount"
   ]
  },
  {
   "cell_type": "markdown",
   "id": "8d11d5c0-e6ff-46e3-a129-7b7e585aebb9",
   "metadata": {},
   "source": [
    "# Check Image Dataset"
   ]
  },
  {
   "cell_type": "code",
   "execution_count": null,
   "id": "cff3847c-8a00-4993-b427-59d8818e20b2",
   "metadata": {
    "tags": []
   },
   "outputs": [],
   "source": [
    "train_whole_imageset = pd.read_csv('train.txt', sep=\"\\t\", header=None, quoting=csv.QUOTE_NONE)\n",
    "train_whole_imageset.columns = ['path', 'text']\n",
    "check_dataset_char_in_dict(train_whole_imageset['text'])[0]"
   ]
  },
  {
   "cell_type": "code",
   "execution_count": null,
   "id": "ea8c889e-2f34-4651-852a-41a0b595aeb8",
   "metadata": {
    "tags": []
   },
   "outputs": [],
   "source": [
    "valid_whole_imageset = pd.read_csv('validation.txt', sep=\"\\t\", header=None, quoting=csv.QUOTE_NONE)\n",
    "valid_whole_imageset.columns = ['path', 'text']\n",
    "check_dataset_char_in_dict(valid_whole_imageset['text'])[0]"
   ]
  },
  {
   "cell_type": "code",
   "execution_count": null,
   "id": "d558ee22-b1f5-4d93-82bb-0ac6f97b9983",
   "metadata": {
    "tags": []
   },
   "outputs": [],
   "source": [
    "check_dataset_char_in_dict(train_whole_imageset['text'])[1]"
   ]
  },
  {
   "cell_type": "code",
   "execution_count": null,
   "id": "6a10e0a6-436b-4710-b16a-de7dcefe241e",
   "metadata": {
    "tags": []
   },
   "outputs": [],
   "source": [
    "check_dataset_char_in_dict(valid_whole_imageset['text'])[1]"
   ]
  }
 ],
 "metadata": {
  "kernelspec": {
   "display_name": "Python 3 (ipykernel)",
   "language": "python",
   "name": "python3"
  },
  "language_info": {
   "codemirror_mode": {
    "name": "ipython",
    "version": 3
   },
   "file_extension": ".py",
   "mimetype": "text/x-python",
   "name": "python",
   "nbconvert_exporter": "python",
   "pygments_lexer": "ipython3",
   "version": "3.10.9"
  }
 },
 "nbformat": 4,
 "nbformat_minor": 5
}
