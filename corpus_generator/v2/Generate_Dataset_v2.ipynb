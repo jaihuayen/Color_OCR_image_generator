{
 "cells": [
  {
   "cell_type": "markdown",
   "id": "ab3d74b0-efb8-4acc-9f13-f14394a07c38",
   "metadata": {
    "tags": []
   },
   "source": [
    "# Generate Dataset Greek More Data"
   ]
  },
  {
   "cell_type": "markdown",
   "id": "c8313982-4bfe-47db-ab35-6e4159ef5ea5",
   "metadata": {},
   "source": [
    "## Combination of Greek Words"
   ]
  },
  {
   "cell_type": "code",
   "execution_count": 136,
   "id": "8d5fe278-9c81-4142-9a34-d6139950264c",
   "metadata": {
    "tags": []
   },
   "outputs": [],
   "source": [
    "import pandas as pd\n",
    "import csv\n",
    "from collections import Counter\n",
    "\n",
    "from itertools import islice\n",
    "\n",
    "def take(n, iterable):\n",
    "    \"\"\"Return the first n items of the iterable as a list.\"\"\"\n",
    "    return list(islice(iterable, n))"
   ]
  },
  {
   "cell_type": "code",
   "execution_count": 84,
   "id": "cbb82190-291e-42f1-b6ae-87dbd39a87ec",
   "metadata": {
    "tags": []
   },
   "outputs": [],
   "source": [
    "greek_corpus = pd.read_csv('Greek_wordlist.txt', sep=\"\\t\", header=None, quoting=csv.QUOTE_NONE)"
   ]
  },
  {
   "cell_type": "code",
   "execution_count": 47,
   "id": "1d3f58e7-c107-4762-b18f-0f3d440966aa",
   "metadata": {
    "tags": []
   },
   "outputs": [],
   "source": [
    "dictionary = pd.read_csv('greek_eng_dict_v2.txt', sep=\"\\t\", header=None, quoting=csv.QUOTE_NONE)\n",
    "char_dict = dictionary.iloc[:124]\n",
    "symbol_dict = dictionary.iloc[124:]\n",
    "symbol_dict = symbol_dict.reset_index(drop=True)"
   ]
  },
  {
   "cell_type": "code",
   "execution_count": 24,
   "id": "4efa0d2c-4913-41f3-bb08-eb3e7dcad4b0",
   "metadata": {
    "tags": []
   },
   "outputs": [
    {
     "data": {
      "text/html": [
       "<div>\n",
       "<style scoped>\n",
       "    .dataframe tbody tr th:only-of-type {\n",
       "        vertical-align: middle;\n",
       "    }\n",
       "\n",
       "    .dataframe tbody tr th {\n",
       "        vertical-align: top;\n",
       "    }\n",
       "\n",
       "    .dataframe thead th {\n",
       "        text-align: right;\n",
       "    }\n",
       "</style>\n",
       "<table border=\"1\" class=\"dataframe\">\n",
       "  <thead>\n",
       "    <tr style=\"text-align: right;\">\n",
       "      <th></th>\n",
       "      <th>0</th>\n",
       "    </tr>\n",
       "  </thead>\n",
       "  <tbody>\n",
       "    <tr>\n",
       "      <th>0</th>\n",
       "      <td>και</td>\n",
       "    </tr>\n",
       "    <tr>\n",
       "      <th>1</th>\n",
       "      <td>να</td>\n",
       "    </tr>\n",
       "    <tr>\n",
       "      <th>2</th>\n",
       "      <td>το</td>\n",
       "    </tr>\n",
       "    <tr>\n",
       "      <th>3</th>\n",
       "      <td>του</td>\n",
       "    </tr>\n",
       "    <tr>\n",
       "      <th>4</th>\n",
       "      <td>την</td>\n",
       "    </tr>\n",
       "    <tr>\n",
       "      <th>...</th>\n",
       "      <td>...</td>\n",
       "    </tr>\n",
       "    <tr>\n",
       "      <th>143955</th>\n",
       "      <td>ΚΑΚΟΗΘΟΥΣ</td>\n",
       "    </tr>\n",
       "    <tr>\n",
       "      <th>143956</th>\n",
       "      <td>ΗΛΙΑΧΤΙΔΑ</td>\n",
       "    </tr>\n",
       "    <tr>\n",
       "      <th>143957</th>\n",
       "      <td>ΠΡΕΣΒΕΥΕΙΣ</td>\n",
       "    </tr>\n",
       "    <tr>\n",
       "      <th>143958</th>\n",
       "      <td>ΕΦΑΜΙΛΛΗ</td>\n",
       "    </tr>\n",
       "    <tr>\n",
       "      <th>143959</th>\n",
       "      <td>ΜΕΓΕΘΥΝΤΙΚΟ</td>\n",
       "    </tr>\n",
       "  </tbody>\n",
       "</table>\n",
       "<p>143960 rows × 1 columns</p>\n",
       "</div>"
      ],
      "text/plain": [
       "                  0\n",
       "0               και\n",
       "1                να\n",
       "2                το\n",
       "3               του\n",
       "4               την\n",
       "...             ...\n",
       "143955    ΚΑΚΟΗΘΟΥΣ\n",
       "143956    ΗΛΙΑΧΤΙΔΑ\n",
       "143957   ΠΡΕΣΒΕΥΕΙΣ\n",
       "143958     ΕΦΑΜΙΛΛΗ\n",
       "143959  ΜΕΓΕΘΥΝΤΙΚΟ\n",
       "\n",
       "[143960 rows x 1 columns]"
      ]
     },
     "execution_count": 24,
     "metadata": {},
     "output_type": "execute_result"
    }
   ],
   "source": [
    "greek_corpus"
   ]
  },
  {
   "cell_type": "code",
   "execution_count": 25,
   "id": "ce0d4702-cc91-4c47-bddd-3aca996e1f26",
   "metadata": {
    "tags": []
   },
   "outputs": [
    {
     "data": {
      "text/html": [
       "<div>\n",
       "<style scoped>\n",
       "    .dataframe tbody tr th:only-of-type {\n",
       "        vertical-align: middle;\n",
       "    }\n",
       "\n",
       "    .dataframe tbody tr th {\n",
       "        vertical-align: top;\n",
       "    }\n",
       "\n",
       "    .dataframe thead th {\n",
       "        text-align: right;\n",
       "    }\n",
       "</style>\n",
       "<table border=\"1\" class=\"dataframe\">\n",
       "  <thead>\n",
       "    <tr style=\"text-align: right;\">\n",
       "      <th></th>\n",
       "      <th>0</th>\n",
       "    </tr>\n",
       "  </thead>\n",
       "  <tbody>\n",
       "    <tr>\n",
       "      <th>0</th>\n",
       "      <td>Α</td>\n",
       "    </tr>\n",
       "    <tr>\n",
       "      <th>1</th>\n",
       "      <td>Β</td>\n",
       "    </tr>\n",
       "    <tr>\n",
       "      <th>2</th>\n",
       "      <td>Γ</td>\n",
       "    </tr>\n",
       "    <tr>\n",
       "      <th>3</th>\n",
       "      <td>Δ</td>\n",
       "    </tr>\n",
       "    <tr>\n",
       "      <th>4</th>\n",
       "      <td>Ε</td>\n",
       "    </tr>\n",
       "    <tr>\n",
       "      <th>...</th>\n",
       "      <td>...</td>\n",
       "    </tr>\n",
       "    <tr>\n",
       "      <th>161</th>\n",
       "      <td>+</td>\n",
       "    </tr>\n",
       "    <tr>\n",
       "      <th>162</th>\n",
       "      <td>,</td>\n",
       "    </tr>\n",
       "    <tr>\n",
       "      <th>163</th>\n",
       "      <td>-</td>\n",
       "    </tr>\n",
       "    <tr>\n",
       "      <th>164</th>\n",
       "      <td>.</td>\n",
       "    </tr>\n",
       "    <tr>\n",
       "      <th>165</th>\n",
       "      <td>/</td>\n",
       "    </tr>\n",
       "  </tbody>\n",
       "</table>\n",
       "<p>166 rows × 1 columns</p>\n",
       "</div>"
      ],
      "text/plain": [
       "     0\n",
       "0    Α\n",
       "1    Β\n",
       "2    Γ\n",
       "3    Δ\n",
       "4    Ε\n",
       "..  ..\n",
       "161  +\n",
       "162  ,\n",
       "163  -\n",
       "164  .\n",
       "165  /\n",
       "\n",
       "[166 rows x 1 columns]"
      ]
     },
     "execution_count": 25,
     "metadata": {},
     "output_type": "execute_result"
    }
   ],
   "source": [
    "dictionary"
   ]
  },
  {
   "cell_type": "code",
   "execution_count": 48,
   "id": "ae4ecb3e-7f6e-4402-add5-aa371dea2292",
   "metadata": {
    "tags": []
   },
   "outputs": [
    {
     "data": {
      "text/html": [
       "<div>\n",
       "<style scoped>\n",
       "    .dataframe tbody tr th:only-of-type {\n",
       "        vertical-align: middle;\n",
       "    }\n",
       "\n",
       "    .dataframe tbody tr th {\n",
       "        vertical-align: top;\n",
       "    }\n",
       "\n",
       "    .dataframe thead th {\n",
       "        text-align: right;\n",
       "    }\n",
       "</style>\n",
       "<table border=\"1\" class=\"dataframe\">\n",
       "  <thead>\n",
       "    <tr style=\"text-align: right;\">\n",
       "      <th></th>\n",
       "      <th>0</th>\n",
       "    </tr>\n",
       "  </thead>\n",
       "  <tbody>\n",
       "    <tr>\n",
       "      <th>0</th>\n",
       "      <td>Α</td>\n",
       "    </tr>\n",
       "    <tr>\n",
       "      <th>1</th>\n",
       "      <td>Β</td>\n",
       "    </tr>\n",
       "    <tr>\n",
       "      <th>2</th>\n",
       "      <td>Γ</td>\n",
       "    </tr>\n",
       "    <tr>\n",
       "      <th>3</th>\n",
       "      <td>Δ</td>\n",
       "    </tr>\n",
       "    <tr>\n",
       "      <th>4</th>\n",
       "      <td>Ε</td>\n",
       "    </tr>\n",
       "    <tr>\n",
       "      <th>...</th>\n",
       "      <td>...</td>\n",
       "    </tr>\n",
       "    <tr>\n",
       "      <th>119</th>\n",
       "      <td>V</td>\n",
       "    </tr>\n",
       "    <tr>\n",
       "      <th>120</th>\n",
       "      <td>W</td>\n",
       "    </tr>\n",
       "    <tr>\n",
       "      <th>121</th>\n",
       "      <td>X</td>\n",
       "    </tr>\n",
       "    <tr>\n",
       "      <th>122</th>\n",
       "      <td>Y</td>\n",
       "    </tr>\n",
       "    <tr>\n",
       "      <th>123</th>\n",
       "      <td>Z</td>\n",
       "    </tr>\n",
       "  </tbody>\n",
       "</table>\n",
       "<p>124 rows × 1 columns</p>\n",
       "</div>"
      ],
      "text/plain": [
       "     0\n",
       "0    Α\n",
       "1    Β\n",
       "2    Γ\n",
       "3    Δ\n",
       "4    Ε\n",
       "..  ..\n",
       "119  V\n",
       "120  W\n",
       "121  X\n",
       "122  Y\n",
       "123  Z\n",
       "\n",
       "[124 rows x 1 columns]"
      ]
     },
     "execution_count": 48,
     "metadata": {},
     "output_type": "execute_result"
    }
   ],
   "source": [
    "char_dict"
   ]
  },
  {
   "cell_type": "code",
   "execution_count": 28,
   "id": "9a184b7c-4101-4c80-872f-9d948c99b809",
   "metadata": {
    "tags": []
   },
   "outputs": [
    {
     "data": {
      "text/html": [
       "<div>\n",
       "<style scoped>\n",
       "    .dataframe tbody tr th:only-of-type {\n",
       "        vertical-align: middle;\n",
       "    }\n",
       "\n",
       "    .dataframe tbody tr th {\n",
       "        vertical-align: top;\n",
       "    }\n",
       "\n",
       "    .dataframe thead th {\n",
       "        text-align: right;\n",
       "    }\n",
       "</style>\n",
       "<table border=\"1\" class=\"dataframe\">\n",
       "  <thead>\n",
       "    <tr style=\"text-align: right;\">\n",
       "      <th></th>\n",
       "      <th>0</th>\n",
       "    </tr>\n",
       "  </thead>\n",
       "  <tbody>\n",
       "    <tr>\n",
       "      <th>0</th>\n",
       "      <td>0</td>\n",
       "    </tr>\n",
       "    <tr>\n",
       "      <th>1</th>\n",
       "      <td>1</td>\n",
       "    </tr>\n",
       "    <tr>\n",
       "      <th>2</th>\n",
       "      <td>2</td>\n",
       "    </tr>\n",
       "    <tr>\n",
       "      <th>3</th>\n",
       "      <td>3</td>\n",
       "    </tr>\n",
       "    <tr>\n",
       "      <th>4</th>\n",
       "      <td>4</td>\n",
       "    </tr>\n",
       "    <tr>\n",
       "      <th>5</th>\n",
       "      <td>5</td>\n",
       "    </tr>\n",
       "    <tr>\n",
       "      <th>6</th>\n",
       "      <td>6</td>\n",
       "    </tr>\n",
       "    <tr>\n",
       "      <th>7</th>\n",
       "      <td>7</td>\n",
       "    </tr>\n",
       "    <tr>\n",
       "      <th>8</th>\n",
       "      <td>8</td>\n",
       "    </tr>\n",
       "    <tr>\n",
       "      <th>9</th>\n",
       "      <td>9</td>\n",
       "    </tr>\n",
       "    <tr>\n",
       "      <th>10</th>\n",
       "      <td>:</td>\n",
       "    </tr>\n",
       "    <tr>\n",
       "      <th>11</th>\n",
       "      <td>;</td>\n",
       "    </tr>\n",
       "    <tr>\n",
       "      <th>12</th>\n",
       "      <td>&lt;</td>\n",
       "    </tr>\n",
       "    <tr>\n",
       "      <th>13</th>\n",
       "      <td>=</td>\n",
       "    </tr>\n",
       "    <tr>\n",
       "      <th>14</th>\n",
       "      <td>&gt;</td>\n",
       "    </tr>\n",
       "    <tr>\n",
       "      <th>15</th>\n",
       "      <td>?</td>\n",
       "    </tr>\n",
       "    <tr>\n",
       "      <th>16</th>\n",
       "      <td>@</td>\n",
       "    </tr>\n",
       "    <tr>\n",
       "      <th>17</th>\n",
       "      <td>[</td>\n",
       "    </tr>\n",
       "    <tr>\n",
       "      <th>18</th>\n",
       "      <td>\\</td>\n",
       "    </tr>\n",
       "    <tr>\n",
       "      <th>19</th>\n",
       "      <td>]</td>\n",
       "    </tr>\n",
       "    <tr>\n",
       "      <th>20</th>\n",
       "      <td>^</td>\n",
       "    </tr>\n",
       "    <tr>\n",
       "      <th>21</th>\n",
       "      <td>_</td>\n",
       "    </tr>\n",
       "    <tr>\n",
       "      <th>22</th>\n",
       "      <td>`</td>\n",
       "    </tr>\n",
       "    <tr>\n",
       "      <th>23</th>\n",
       "      <td>{</td>\n",
       "    </tr>\n",
       "    <tr>\n",
       "      <th>24</th>\n",
       "      <td>|</td>\n",
       "    </tr>\n",
       "    <tr>\n",
       "      <th>25</th>\n",
       "      <td>}</td>\n",
       "    </tr>\n",
       "    <tr>\n",
       "      <th>26</th>\n",
       "      <td>~</td>\n",
       "    </tr>\n",
       "    <tr>\n",
       "      <th>27</th>\n",
       "      <td>!</td>\n",
       "    </tr>\n",
       "    <tr>\n",
       "      <th>28</th>\n",
       "      <td>\"</td>\n",
       "    </tr>\n",
       "    <tr>\n",
       "      <th>29</th>\n",
       "      <td>#</td>\n",
       "    </tr>\n",
       "    <tr>\n",
       "      <th>30</th>\n",
       "      <td>$</td>\n",
       "    </tr>\n",
       "    <tr>\n",
       "      <th>31</th>\n",
       "      <td>%</td>\n",
       "    </tr>\n",
       "    <tr>\n",
       "      <th>32</th>\n",
       "      <td>&amp;</td>\n",
       "    </tr>\n",
       "    <tr>\n",
       "      <th>33</th>\n",
       "      <td>'</td>\n",
       "    </tr>\n",
       "    <tr>\n",
       "      <th>34</th>\n",
       "      <td>(</td>\n",
       "    </tr>\n",
       "    <tr>\n",
       "      <th>35</th>\n",
       "      <td>)</td>\n",
       "    </tr>\n",
       "    <tr>\n",
       "      <th>36</th>\n",
       "      <td>*</td>\n",
       "    </tr>\n",
       "    <tr>\n",
       "      <th>37</th>\n",
       "      <td>+</td>\n",
       "    </tr>\n",
       "    <tr>\n",
       "      <th>38</th>\n",
       "      <td>,</td>\n",
       "    </tr>\n",
       "    <tr>\n",
       "      <th>39</th>\n",
       "      <td>-</td>\n",
       "    </tr>\n",
       "    <tr>\n",
       "      <th>40</th>\n",
       "      <td>.</td>\n",
       "    </tr>\n",
       "    <tr>\n",
       "      <th>41</th>\n",
       "      <td>/</td>\n",
       "    </tr>\n",
       "  </tbody>\n",
       "</table>\n",
       "</div>"
      ],
      "text/plain": [
       "    0\n",
       "0   0\n",
       "1   1\n",
       "2   2\n",
       "3   3\n",
       "4   4\n",
       "5   5\n",
       "6   6\n",
       "7   7\n",
       "8   8\n",
       "9   9\n",
       "10  :\n",
       "11  ;\n",
       "12  <\n",
       "13  =\n",
       "14  >\n",
       "15  ?\n",
       "16  @\n",
       "17  [\n",
       "18  \\\n",
       "19  ]\n",
       "20  ^\n",
       "21  _\n",
       "22  `\n",
       "23  {\n",
       "24  |\n",
       "25  }\n",
       "26  ~\n",
       "27  !\n",
       "28  \"\n",
       "29  #\n",
       "30  $\n",
       "31  %\n",
       "32  &\n",
       "33  '\n",
       "34  (\n",
       "35  )\n",
       "36  *\n",
       "37  +\n",
       "38  ,\n",
       "39  -\n",
       "40  .\n",
       "41  /"
      ]
     },
     "execution_count": 28,
     "metadata": {},
     "output_type": "execute_result"
    }
   ],
   "source": [
    "symbol_dict"
   ]
  },
  {
   "cell_type": "markdown",
   "id": "5357b16a-b6fc-4c36-ab01-fbb141503d13",
   "metadata": {},
   "source": [
    "## Data Cleansing for Greek Dataset"
   ]
  },
  {
   "cell_type": "code",
   "execution_count": 6,
   "id": "ec904d96-2daf-4e08-a4f9-0594db916a75",
   "metadata": {
    "tags": []
   },
   "outputs": [],
   "source": [
    "dict_list = list(dictionary[0])\n",
    "\n",
    "remove_list = []\n",
    "\n",
    "for i, txt in enumerate(greek_corpus[0]):\n",
    "    try:\n",
    "        for j in txt:\n",
    "            if j in dict_list:\n",
    "                pass\n",
    "            else:\n",
    "                remove_list.append(i)\n",
    "                continue\n",
    "    except:\n",
    "        remove_list.append(i)"
   ]
  },
  {
   "cell_type": "code",
   "execution_count": 7,
   "id": "34ead452-6b41-4bda-b1c5-c6af5944b4e2",
   "metadata": {
    "tags": []
   },
   "outputs": [
    {
     "data": {
      "text/html": [
       "<div>\n",
       "<style scoped>\n",
       "    .dataframe tbody tr th:only-of-type {\n",
       "        vertical-align: middle;\n",
       "    }\n",
       "\n",
       "    .dataframe tbody tr th {\n",
       "        vertical-align: top;\n",
       "    }\n",
       "\n",
       "    .dataframe thead th {\n",
       "        text-align: right;\n",
       "    }\n",
       "</style>\n",
       "<table border=\"1\" class=\"dataframe\">\n",
       "  <thead>\n",
       "    <tr style=\"text-align: right;\">\n",
       "      <th></th>\n",
       "      <th>0</th>\n",
       "    </tr>\n",
       "  </thead>\n",
       "  <tbody>\n",
       "    <tr>\n",
       "      <th>0</th>\n",
       "      <td>και</td>\n",
       "    </tr>\n",
       "    <tr>\n",
       "      <th>1</th>\n",
       "      <td>να</td>\n",
       "    </tr>\n",
       "    <tr>\n",
       "      <th>2</th>\n",
       "      <td>το</td>\n",
       "    </tr>\n",
       "    <tr>\n",
       "      <th>3</th>\n",
       "      <td>του</td>\n",
       "    </tr>\n",
       "    <tr>\n",
       "      <th>4</th>\n",
       "      <td>την</td>\n",
       "    </tr>\n",
       "    <tr>\n",
       "      <th>...</th>\n",
       "      <td>...</td>\n",
       "    </tr>\n",
       "    <tr>\n",
       "      <th>143828</th>\n",
       "      <td>ΚΑΚΟΗΘΟΥΣ</td>\n",
       "    </tr>\n",
       "    <tr>\n",
       "      <th>143829</th>\n",
       "      <td>ΗΛΙΑΧΤΙΔΑ</td>\n",
       "    </tr>\n",
       "    <tr>\n",
       "      <th>143830</th>\n",
       "      <td>ΠΡΕΣΒΕΥΕΙΣ</td>\n",
       "    </tr>\n",
       "    <tr>\n",
       "      <th>143831</th>\n",
       "      <td>ΕΦΑΜΙΛΛΗ</td>\n",
       "    </tr>\n",
       "    <tr>\n",
       "      <th>143832</th>\n",
       "      <td>ΜΕΓΕΘΥΝΤΙΚΟ</td>\n",
       "    </tr>\n",
       "  </tbody>\n",
       "</table>\n",
       "<p>143833 rows × 1 columns</p>\n",
       "</div>"
      ],
      "text/plain": [
       "                  0\n",
       "0               και\n",
       "1                να\n",
       "2                το\n",
       "3               του\n",
       "4               την\n",
       "...             ...\n",
       "143828    ΚΑΚΟΗΘΟΥΣ\n",
       "143829    ΗΛΙΑΧΤΙΔΑ\n",
       "143830   ΠΡΕΣΒΕΥΕΙΣ\n",
       "143831     ΕΦΑΜΙΛΛΗ\n",
       "143832  ΜΕΓΕΘΥΝΤΙΚΟ\n",
       "\n",
       "[143833 rows x 1 columns]"
      ]
     },
     "execution_count": 7,
     "metadata": {},
     "output_type": "execute_result"
    }
   ],
   "source": [
    "greek_corpus_avalible = greek_corpus.drop(index=remove_list)\n",
    "greek_corpus_avalible = greek_corpus_avalible.reset_index(drop=True)\n",
    "greek_corpus_avalible"
   ]
  },
  {
   "cell_type": "code",
   "execution_count": 8,
   "id": "50b9cf90-0a80-485f-9096-b6cb79fa0adb",
   "metadata": {
    "tags": []
   },
   "outputs": [],
   "source": [
    "with open('Greek_corpus_v2.txt', 'w') as z:\n",
    "\n",
    "    for i in greek_corpus_avalible[0]:\n",
    "        z.write(i)\n",
    "        z.write('\\n')"
   ]
  },
  {
   "cell_type": "markdown",
   "id": "fbc05d56-ef44-433e-9a2b-17826f58eac9",
   "metadata": {},
   "source": [
    "## Data Cleansing for English Dataset"
   ]
  },
  {
   "cell_type": "code",
   "execution_count": 9,
   "id": "7ccb5090-0175-4f88-ab08-8f1a44bf0825",
   "metadata": {
    "tags": []
   },
   "outputs": [],
   "source": [
    "eng_corpus = pd.read_csv('eng.wordlist', sep=\"\\t\", header=None, quoting=csv.QUOTE_NONE)"
   ]
  },
  {
   "cell_type": "code",
   "execution_count": 10,
   "id": "f213d898-a29c-447a-a8f9-be9202afbe9f",
   "metadata": {
    "tags": []
   },
   "outputs": [
    {
     "data": {
      "text/html": [
       "<div>\n",
       "<style scoped>\n",
       "    .dataframe tbody tr th:only-of-type {\n",
       "        vertical-align: middle;\n",
       "    }\n",
       "\n",
       "    .dataframe tbody tr th {\n",
       "        vertical-align: top;\n",
       "    }\n",
       "\n",
       "    .dataframe thead th {\n",
       "        text-align: right;\n",
       "    }\n",
       "</style>\n",
       "<table border=\"1\" class=\"dataframe\">\n",
       "  <thead>\n",
       "    <tr style=\"text-align: right;\">\n",
       "      <th></th>\n",
       "      <th>0</th>\n",
       "    </tr>\n",
       "  </thead>\n",
       "  <tbody>\n",
       "    <tr>\n",
       "      <th>0</th>\n",
       "      <td>the</td>\n",
       "    </tr>\n",
       "    <tr>\n",
       "      <th>1</th>\n",
       "      <td>of</td>\n",
       "    </tr>\n",
       "    <tr>\n",
       "      <th>2</th>\n",
       "      <td>and</td>\n",
       "    </tr>\n",
       "    <tr>\n",
       "      <th>3</th>\n",
       "      <td>to</td>\n",
       "    </tr>\n",
       "    <tr>\n",
       "      <th>4</th>\n",
       "      <td>a</td>\n",
       "    </tr>\n",
       "    <tr>\n",
       "      <th>...</th>\n",
       "      <td>...</td>\n",
       "    </tr>\n",
       "    <tr>\n",
       "      <th>439145</th>\n",
       "      <td>Cycling:</td>\n",
       "    </tr>\n",
       "    <tr>\n",
       "      <th>439146</th>\n",
       "      <td>variation).</td>\n",
       "    </tr>\n",
       "    <tr>\n",
       "      <th>439147</th>\n",
       "      <td>people.'</td>\n",
       "    </tr>\n",
       "    <tr>\n",
       "      <th>439148</th>\n",
       "      <td>Minhtu</td>\n",
       "    </tr>\n",
       "    <tr>\n",
       "      <th>439149</th>\n",
       "      <td>Gaming?</td>\n",
       "    </tr>\n",
       "  </tbody>\n",
       "</table>\n",
       "<p>439150 rows × 1 columns</p>\n",
       "</div>"
      ],
      "text/plain": [
       "                  0\n",
       "0               the\n",
       "1                of\n",
       "2               and\n",
       "3                to\n",
       "4                 a\n",
       "...             ...\n",
       "439145     Cycling:\n",
       "439146  variation).\n",
       "439147     people.'\n",
       "439148       Minhtu\n",
       "439149      Gaming?\n",
       "\n",
       "[439150 rows x 1 columns]"
      ]
     },
     "execution_count": 10,
     "metadata": {},
     "output_type": "execute_result"
    }
   ],
   "source": [
    "eng_corpus"
   ]
  },
  {
   "cell_type": "code",
   "execution_count": 11,
   "id": "1b0d73f4-f0d7-4843-8b10-f2ba41e58ea4",
   "metadata": {
    "tags": []
   },
   "outputs": [],
   "source": [
    "dict_list = list(dictionary[0])\n",
    "\n",
    "remove_list = []\n",
    "\n",
    "for i, txt in enumerate(eng_corpus[0]):\n",
    "    try:\n",
    "        for j in txt:\n",
    "            if j in dict_list:\n",
    "                pass\n",
    "            else:\n",
    "                remove_list.append(i)\n",
    "                continue\n",
    "    except:\n",
    "        remove_list.append(i)"
   ]
  },
  {
   "cell_type": "code",
   "execution_count": 12,
   "id": "156e861a-9c4c-404a-b731-dbf93f826565",
   "metadata": {
    "tags": []
   },
   "outputs": [
    {
     "data": {
      "text/html": [
       "<div>\n",
       "<style scoped>\n",
       "    .dataframe tbody tr th:only-of-type {\n",
       "        vertical-align: middle;\n",
       "    }\n",
       "\n",
       "    .dataframe tbody tr th {\n",
       "        vertical-align: top;\n",
       "    }\n",
       "\n",
       "    .dataframe thead th {\n",
       "        text-align: right;\n",
       "    }\n",
       "</style>\n",
       "<table border=\"1\" class=\"dataframe\">\n",
       "  <thead>\n",
       "    <tr style=\"text-align: right;\">\n",
       "      <th></th>\n",
       "      <th>0</th>\n",
       "    </tr>\n",
       "  </thead>\n",
       "  <tbody>\n",
       "    <tr>\n",
       "      <th>0</th>\n",
       "      <td>the</td>\n",
       "    </tr>\n",
       "    <tr>\n",
       "      <th>1</th>\n",
       "      <td>of</td>\n",
       "    </tr>\n",
       "    <tr>\n",
       "      <th>2</th>\n",
       "      <td>and</td>\n",
       "    </tr>\n",
       "    <tr>\n",
       "      <th>3</th>\n",
       "      <td>to</td>\n",
       "    </tr>\n",
       "    <tr>\n",
       "      <th>4</th>\n",
       "      <td>a</td>\n",
       "    </tr>\n",
       "    <tr>\n",
       "      <th>...</th>\n",
       "      <td>...</td>\n",
       "    </tr>\n",
       "    <tr>\n",
       "      <th>399651</th>\n",
       "      <td>Cycling:</td>\n",
       "    </tr>\n",
       "    <tr>\n",
       "      <th>399652</th>\n",
       "      <td>variation).</td>\n",
       "    </tr>\n",
       "    <tr>\n",
       "      <th>399653</th>\n",
       "      <td>people.'</td>\n",
       "    </tr>\n",
       "    <tr>\n",
       "      <th>399654</th>\n",
       "      <td>Minhtu</td>\n",
       "    </tr>\n",
       "    <tr>\n",
       "      <th>399655</th>\n",
       "      <td>Gaming?</td>\n",
       "    </tr>\n",
       "  </tbody>\n",
       "</table>\n",
       "<p>399656 rows × 1 columns</p>\n",
       "</div>"
      ],
      "text/plain": [
       "                  0\n",
       "0               the\n",
       "1                of\n",
       "2               and\n",
       "3                to\n",
       "4                 a\n",
       "...             ...\n",
       "399651     Cycling:\n",
       "399652  variation).\n",
       "399653     people.'\n",
       "399654       Minhtu\n",
       "399655      Gaming?\n",
       "\n",
       "[399656 rows x 1 columns]"
      ]
     },
     "execution_count": 12,
     "metadata": {},
     "output_type": "execute_result"
    }
   ],
   "source": [
    "eng_corpus_avalible = eng_corpus.drop(index=remove_list)\n",
    "eng_corpus_avalible = eng_corpus_avalible.reset_index(drop=True)\n",
    "eng_corpus_avalible"
   ]
  },
  {
   "cell_type": "code",
   "execution_count": 13,
   "id": "4352d9c5-5086-423c-aa4f-1f489a5d6680",
   "metadata": {
    "tags": []
   },
   "outputs": [],
   "source": [
    "with open('English_corpus.txt', 'w') as z:\n",
    "\n",
    "    for i in eng_corpus_avalible[0]:\n",
    "        z.write(i)\n",
    "        z.write('\\n')"
   ]
  },
  {
   "cell_type": "markdown",
   "id": "e64e763f-c0fe-4b04-96c4-d9d3642aef57",
   "metadata": {},
   "source": [
    "# Generate Combined Text"
   ]
  },
  {
   "cell_type": "code",
   "execution_count": 142,
   "id": "b303dfa2-1303-408a-bedc-0d8024489d9f",
   "metadata": {},
   "outputs": [],
   "source": [
    "def dataset_generation(n_sample, output_txt, print_only=False):\n",
    "    \n",
    "    with open(output_txt, 'w') as z:\n",
    "\n",
    "        for i in range(n_sample):\n",
    "            \n",
    "            text = ''\n",
    "            \n",
    "            # token length between 1 - 3\n",
    "            \n",
    "            n_token = random.randint(1,3)\n",
    "            \n",
    "            for i in range(n_token):\n",
    "                \n",
    "                # whether symbol will add to token or not with 0.5 prob\n",
    "                \n",
    "                symbol = random.randint(0,1)\n",
    "                \n",
    "                # whether greek will be chosen or not with 0.7 prob\n",
    "                \n",
    "                lang_select = random.random()\n",
    "                \n",
    "                if lang_select > 0.3:\n",
    "                    append_text = greek_corpus_avalible.iloc[random.randint(0,len(greek_corpus_avalible)-1)][0]\n",
    "                else:\n",
    "                    append_text = eng_corpus_avalible.iloc[random.randint(0,len(eng_corpus_avalible)-1)][0]\n",
    "                \n",
    "                if symbol:\n",
    "                    append_symbol = symbol_dict.iloc[random.randint(0,len(symbol_dict)-1)][0]\n",
    "                    \n",
    "                    # the symbol will be added to the front or to the end of the token\n",
    "                    \n",
    "                    sym_loc_head = random.randint(0,1)\n",
    "                    \n",
    "                    if sym_loc_head:\n",
    "                        append_text = append_symbol + append_text\n",
    "\n",
    "                if i == 0:\n",
    "                    text = append_text\n",
    "                else:\n",
    "                    text = append_text + ' ' + text\n",
    "                \n",
    "            # Pick the random length of token as subset\n",
    "                \n",
    "            text_len = random.randint(1, min(24,len(text)))\n",
    "            string = text[0:text_len]\n",
    "            \n",
    "            if_add_dict_char = random.randint(0,1)\n",
    "            \n",
    "            # Add dictionay char to dataset in order to make all char inside\n",
    "            \n",
    "            if if_add_dict_char:\n",
    "            \n",
    "                add_dict_char_loc = random.randint(0,1)\n",
    "\n",
    "                add_dict_char = dictionary.iloc[random.randint(0,len(dictionary)-1)][0]\n",
    "\n",
    "                if add_dict_char_loc:\n",
    "                    append_text = add_dict_char + string\n",
    "                else:\n",
    "                    append_text = string + add_dict_char\n",
    "                    \n",
    "            else:\n",
    "                append_text = string\n",
    "                            \n",
    "            if not print_only:\n",
    "                z.write(append_text)\n",
    "                z.write('\\n')\n",
    "            else:\n",
    "                print(append_text)"
   ]
  },
  {
   "cell_type": "markdown",
   "id": "ad50b681-d0e6-4efc-bef8-0799c0b72ac8",
   "metadata": {},
   "source": [
    "## Training Dataset"
   ]
  },
  {
   "cell_type": "code",
   "execution_count": 143,
   "id": "fa46e3c8-4386-41eb-9c95-a4a0191538ce",
   "metadata": {
    "tags": []
   },
   "outputs": [],
   "source": [
    "dataset_generation(80000, 'train_corpus_v2.txt', print_only=False)"
   ]
  },
  {
   "cell_type": "code",
   "execution_count": 144,
   "id": "16dff676-88a9-467c-9c5d-0173d7c892fe",
   "metadata": {
    "tags": []
   },
   "outputs": [
    {
     "data": {
      "text/plain": [
       "{' '}"
      ]
     },
     "execution_count": 144,
     "metadata": {},
     "output_type": "execute_result"
    }
   ],
   "source": [
    "whole_corpus = pd.read_csv('train_corpus_v2.txt', sep=\"\\t\", header=None, quoting=csv.QUOTE_NONE)[0]\n",
    "corpus_string = ''.join(str(x) for x in whole_corpus)\n",
    "\n",
    "lst = []\n",
    " \n",
    "for letter in corpus_string:\n",
    "    lst.append(letter)\n",
    "    \n",
    "wordCount = dict(Counter(lst))\n",
    "\n",
    "set(list(wordCount.keys())) - set(dictionary[0])"
   ]
  },
  {
   "cell_type": "code",
   "execution_count": 145,
   "id": "2a34ea82-5f7e-4665-8732-417a54b8004f",
   "metadata": {},
   "outputs": [
    {
     "data": {
      "text/plain": [
       "[('2', 867), ('W', 970), ('A', 2729), ('T', 2022), ('E', 2114)]"
      ]
     },
     "execution_count": 145,
     "metadata": {},
     "output_type": "execute_result"
    }
   ],
   "source": [
    "take(5, wordCount.items())"
   ]
  },
  {
   "cell_type": "markdown",
   "id": "1622dfd8-56cb-4a09-9971-3925d73bc5e5",
   "metadata": {},
   "source": [
    "## Validation Set"
   ]
  },
  {
   "cell_type": "code",
   "execution_count": 146,
   "id": "f5321f78-3849-41e7-b7d2-6a25e7d9dd95",
   "metadata": {
    "tags": []
   },
   "outputs": [],
   "source": [
    "dataset_generation(20000, 'validate_corpus_v2.txt', print_only=False)"
   ]
  },
  {
   "cell_type": "code",
   "execution_count": 147,
   "id": "f6d5bcb0-200c-4750-8de7-7920e6490a67",
   "metadata": {
    "tags": []
   },
   "outputs": [
    {
     "data": {
      "text/plain": [
       "{' '}"
      ]
     },
     "execution_count": 147,
     "metadata": {},
     "output_type": "execute_result"
    }
   ],
   "source": [
    "whole_corpus = pd.read_csv('validate_corpus_v2.txt', sep=\"\\t\", header=None, quoting=csv.QUOTE_NONE)[0]\n",
    "corpus_string = ''.join(str(x) for x in whole_corpus)\n",
    "\n",
    "lst = []\n",
    " \n",
    "for letter in corpus_string:\n",
    "    lst.append(letter)\n",
    "    \n",
    "wordCount = dict(Counter(lst))\n",
    "\n",
    "set(list(wordCount.keys())) - set(dictionary[0])"
   ]
  },
  {
   "cell_type": "code",
   "execution_count": 148,
   "id": "00d13513-4c2a-4c93-9139-a7dec5ec93c6",
   "metadata": {
    "tags": []
   },
   "outputs": [
    {
     "data": {
      "text/plain": [
       "[('r', 2685), ('o', 2682), ('e', 3880), ('l', 1836), (' ', 9282)]"
      ]
     },
     "execution_count": 148,
     "metadata": {},
     "output_type": "execute_result"
    }
   ],
   "source": [
    "take(5, wordCount.items())"
   ]
  }
 ],
 "metadata": {
  "kernelspec": {
   "display_name": "Python 3 (ipykernel)",
   "language": "python",
   "name": "python3"
  },
  "language_info": {
   "codemirror_mode": {
    "name": "ipython",
    "version": 3
   },
   "file_extension": ".py",
   "mimetype": "text/x-python",
   "name": "python",
   "nbconvert_exporter": "python",
   "pygments_lexer": "ipython3",
   "version": "3.10.9"
  }
 },
 "nbformat": 4,
 "nbformat_minor": 5
}
